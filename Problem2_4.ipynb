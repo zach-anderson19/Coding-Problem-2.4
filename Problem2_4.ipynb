{
  "nbformat": 4,
  "nbformat_minor": 0,
  "metadata": {
    "colab": {
      "provenance": [],
      "authorship_tag": "ABX9TyN2ACKyBZVnq6jGrbqkBlsn",
      "include_colab_link": true
    },
    "kernelspec": {
      "name": "python3",
      "display_name": "Python 3"
    },
    "language_info": {
      "name": "python"
    }
  },
  "cells": [
    {
      "cell_type": "markdown",
      "metadata": {
        "id": "view-in-github",
        "colab_type": "text"
      },
      "source": [
        "<a href=\"https://colab.research.google.com/github/zach-anderson19/Coding-Problem-2.4/blob/main/Problem2_4.ipynb\" target=\"_parent\"><img src=\"https://colab.research.google.com/assets/colab-badge.svg\" alt=\"Open In Colab\"/></a>"
      ]
    },
    {
      "cell_type": "code",
      "execution_count": null,
      "metadata": {
        "id": "aRM24ym5nMSW",
        "colab": {
          "base_uri": "https://localhost:8080/"
        },
        "outputId": "42ec879f-7f8d-42fe-d9e8-e55218e4c97e"
      },
      "outputs": [
        {
          "output_type": "stream",
          "name": "stdout",
          "text": [
            "Lowest Payment: 451.63\n"
          ]
        }
      ],
      "source": [
        "#Problem 4: Recursive Bisection Search for Minimum Monthly Payment\n",
        "\n",
        "#variables\n",
        "balance = 5000\n",
        "original = balance\n",
        "annIntRate = 0.18\n",
        "monthIntRate = annIntRate / 12\n",
        "lowerBound = balance / 12\n",
        "upperBound = (balance * (1 + monthIntRate) ** 12) / 12.0\n",
        "epsilon = 0.01\n",
        "\n",
        "#recursive function to calculate balance after 12 months\n",
        "def recursivePayment(balance, minPay, monthIntRate, month):\n",
        "  if month == 12:\n",
        "    return balance\n",
        "\n",
        "  #calculating unpaid balance\n",
        "  unpaidBalance = balance - minPay\n",
        "  #updating balance with interest\n",
        "  balance = unpaidBalance + (monthIntRate * unpaidBalance)\n",
        "\n",
        "  #recursively calculate for the next month\n",
        "  return recursivePayment(balance, minPay, monthIntRate, month + 1)\n",
        "\n",
        "#recursive function to calculate the minimum monthly payment\n",
        "def minPaymentRecursive(lowerBound, upperBound, originalBalance, monthIntRate, epsilon):\n",
        "  minPay = (upperBound + lowerBound) / 2\n",
        "\n",
        "  #calculate balance after 12 months of payments\n",
        "  balance = recursivePayment(originalBalance, minPay, monthIntRate, 0)\n",
        "\n",
        "  #adjusting the bounds\n",
        "  if abs(balance) < epsilon: #base case\n",
        "    return minPay\n",
        "  elif balance > 0: #if balance positive, increase lower bound\n",
        "    return minPaymentRecursive(minPay, upperBound, originalBalance, monthIntRate, epsilon)\n",
        "  else: #if balance negative, decrease upper bound\n",
        "    return minPaymentRecursive(lowerBound, minPay, originalBalance, monthIntRate, epsilon)\n",
        "\n",
        "#start the recursive search for the minimum payment\n",
        "minPay = minPaymentRecursive(lowerBound, upperBound, original, monthIntRate, epsilon)\n",
        "\n",
        "#rounding minPay to 2 decimal places\n",
        "minPay = round(minPay, 2)\n",
        "#final print statement\n",
        "print(\"Lowest Payment: \" + str(minPay))\n"
      ]
    }
  ]
}